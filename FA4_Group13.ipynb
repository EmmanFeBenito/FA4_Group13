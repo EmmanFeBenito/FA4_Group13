{
  "metadata": {
    "kernelspec": {
      "name": "python",
      "display_name": "Python (Pyodide)",
      "language": "python"
    },
    "language_info": {
      "codemirror_mode": {
        "name": "python",
        "version": 3
      },
      "file_extension": ".py",
      "mimetype": "text/x-python",
      "name": "python",
      "nbconvert_exporter": "python",
      "pygments_lexer": "ipython3",
      "version": "3.8"
    }
  },
  "nbformat_minor": 5,
  "nbformat": 4,
  "cells": [
    {
      "id": "bc5ffa43-76d9-4055-a863-fc88269eabb1",
      "cell_type": "code",
      "source": "import pandas as pd\nimport numpy as np\n\ndata = pd.read_csv(\"Data-1.csv\")\n\ndef raw_moments(data, order):\n    return [float(np.mean(data**k)) for k in range(1, order+1)]\n\ndef central_moments(data, order):\n    mean = np.mean(data)\n    return [float(np.mean((data - mean)**k)) for k in range(1, order+1)]\n\ndef moments_about_c(data, order, c):\n    return [float(np.mean((data - c)**k)) for k in range(1, order+1)]\n\ndatasets = {\n    \"Normal\": data[\"Normal\"].values,\n    \"Skewed Right\": data[\"SK_right\"].values,\n    \"Skewed Left\": data[\"SK_left\"].values,\n    \"Uniform\": data[\"Uniform\"].values\n}\n\n# 1. Raw Moments\nraw_results = {name: raw_moments(values, 4) for name, values in datasets.items()}\nprint(\"\\n1. Raw Moments\")\nfor name, moments in raw_results.items():\n    print(f\"{name}: {moments}\")\n\n# 2. Central Moments\ncentral_results = {name: central_moments(values, 4) for name, values in datasets.items()}\nprint(\"\\n2. Central Moments (about the mean)\")\nfor name, moments in central_results.items():\n    print(f\"{name}: {moments}\")\n\n# 3. Moments about 75 for Normal dataset\nmoments_75 = moments_about_c(datasets[\"Normal\"], 4, 75)\nprint(\"\\n3. Moments about 75 (Normal dataset):\", moments_75)\n\n# 4. Verification of Moment Relations\nraw = raw_moments(datasets[\"Normal\"], 4)\ncentral = central_moments(datasets[\"Normal\"], 4)\n\nm1_prime, m2_prime, m3_prime, m4_prime = raw\nm1, m2, m3, m4 = central\n\nrelation_check = {\n    \"m2\": float(m2_prime - m1_prime**2),\n    \"m3\": float(m3_prime - 3*m1_prime*m2_prime + 2*m1_prime**3),\n    \"m4\": float(m4_prime - 4*m1_prime*m3_prime + 6*(m1_prime**2)*m2_prime - 3*m1_prime**4)\n}\n\nprint(\"\\n4. Verification of Moment Relations (Normal dataset)\")\nprint(f\"m2 (calculated): {m2}  | m2 (relation): {relation_check['m2']}\")\nprint(f\"m3 (calculated): {m3}  | m3 (relation): {relation_check['m3']}\")\nprint(f\"m4 (calculated): {m4}  | m4 (relation): {relation_check['m4']}\")",
      "metadata": {
        "trusted": true
      },
      "outputs": [
        {
          "name": "stdout",
          "output_type": "stream",
          "text": "\n1. Raw Moments\nNormal: [65.12, 4248.92, 277770.92, 18194173.64]\nSkewed Right: [35.48, 1437.72, 68292.44, 3797594.04]\nSkewed Left: [74.2, 5925.4, 489458.8, 41396161.48]\nUniform: [12.056000000000001, 145.426, 1755.15776, 21194.5933]\n\n2. Central Moments (about the mean)\nNormal: [-4.547473508864641e-15, 8.3056, -0.4717440000001135, 160.94862592]\nSkewed Right: [3.4106051316484808e-15, 178.8896, 4588.1283840000015, 210642.88343552005]\nSkewed Left: [-2.842170943040401e-15, 419.76000000000005, -12498.264000000003, 927289.7472]\nUniform: [-9.237055564881303e-16, 0.07886400000000006, 0.00033523199999977105, 0.011251168512000026]\n\n3. Moments about 75 (Normal dataset): [-9.88, 105.92, -1211.08, 14572.64]\n\n4. Verification of Moment Relations (Normal dataset)\nm2 (calculated): 8.3056  | m2 (relation): 8.305599999999686\nm3 (calculated): -0.4717440000001135  | m3 (relation): -0.47174399998039007\nm4 (calculated): 160.94862592  | m4 (relation): 160.9486259073019\n"
        }
      ],
      "execution_count": 1
    },
    {
      "id": "02b61cfd-efc6-4dee-bec3-37aeb4030161",
      "cell_type": "code",
      "source": "",
      "metadata": {
        "trusted": true
      },
      "outputs": [],
      "execution_count": null
    }
  ]
}